{
  "nbformat": 4,
  "nbformat_minor": 0,
  "metadata": {
    "colab": {
      "name": "Grafton.ipynb",
      "provenance": [],
      "authorship_tag": "ABX9TyPUsREJJY2wiR8u818WvKen",
      "include_colab_link": true
    },
    "kernelspec": {
      "name": "python3",
      "display_name": "Python 3"
    },
    "language_info": {
      "name": "python"
    }
  },
  "cells": [
    {
      "cell_type": "markdown",
      "metadata": {
        "id": "view-in-github",
        "colab_type": "text"
      },
      "source": [
        "<a href=\"https://colab.research.google.com/github/yForecasting/grafton/blob/main/Grafton.ipynb\" target=\"_parent\"><img src=\"https://colab.research.google.com/assets/colab-badge.svg\" alt=\"Open In Colab\"/></a>"
      ]
    },
    {
      "cell_type": "markdown",
      "source": [
        "# Grafton\n",
        "\n",
        "---\n",
        "\n",
        "A package used to anonymize different input files (eg CSV, JSON, HTML) containing sensitive personal information. This is aligned with the Data Protection Regulation (GDPR) requirements, compiled for companies and organizations that collect and analyze data.\n",
        "\n",
        "\n",
        "GDPR applies if an EU-based company processes personal data*. The aim of Grafton is to anonymize the required fields so any further tracking of the subject is prevented.\n",
        "\n",
        "\n",
        "The anonymization process takes place when users read a file. This ensures that any further processing actions will be made on anonymized (or pseudonymized) data. "
      ],
      "metadata": {
        "id": "fLwo6sgOY0e2"
      }
    },
    {
      "cell_type": "markdown",
      "source": [
        ""
      ],
      "metadata": {
        "id": "GtrWtqL-Z9PC"
      }
    },
    {
      "cell_type": "code",
      "execution_count": 7,
      "metadata": {
        "colab": {
          "base_uri": "https://localhost:8080/"
        },
        "id": "Gy_s8FRVYzwe",
        "outputId": "d04c44db-5c30-4c79-91e6-8d3404e78b90"
      },
      "outputs": [
        {
          "output_type": "stream",
          "name": "stdout",
          "text": [
            "Requirement already satisfied: grafton in /usr/local/lib/python3.7/dist-packages (0.1.8)\n",
            "Requirement already satisfied: pandas in /usr/local/lib/python3.7/dist-packages (from grafton) (1.1.5)\n",
            "Requirement already satisfied: numpy>=1.15.4 in /usr/local/lib/python3.7/dist-packages (from pandas->grafton) (1.19.5)\n",
            "Requirement already satisfied: pytz>=2017.2 in /usr/local/lib/python3.7/dist-packages (from pandas->grafton) (2018.9)\n",
            "Requirement already satisfied: python-dateutil>=2.7.3 in /usr/local/lib/python3.7/dist-packages (from pandas->grafton) (2.8.2)\n",
            "Requirement already satisfied: six>=1.5 in /usr/local/lib/python3.7/dist-packages (from python-dateutil>=2.7.3->pandas->grafton) (1.15.0)\n",
            "Original data read.\n",
            "Export started.\n",
            "Wait for the end of script signature!\n",
            "Grafton complete.\n",
            "---- end of script ----\n"
          ]
        }
      ],
      "source": [
        "!pip install grafton\n",
        "\n",
        "# Using the grafton anonymise function\n",
        "from grafton import anonymise\n",
        "\n",
        "# Initializing the paths\n",
        "export_path = '/content/export.csv'\n",
        "pseudonyms_path = '/content/pseudonyms.csv'\n",
        "consent_path = '/content/consent.csv'\n",
        "flatfile_path = '/content/flatfile.csv'\n",
        "\n",
        "anonymise(pseudonyms_file = pseudonyms_path, consent_file = consent_path, flat_file = flatfile_path, export_file = export_path)"
      ]
    }
  ]
}