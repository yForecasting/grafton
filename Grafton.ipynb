{
  "nbformat": 4,
  "nbformat_minor": 0,
  "metadata": {
    "colab": {
      "name": "Grafton.ipynb",
      "provenance": [],
      "authorship_tag": "ABX9TyOM1GkK63cloSO+uuDo4VZW",
      "include_colab_link": true
    },
    "kernelspec": {
      "name": "python3",
      "display_name": "Python 3"
    },
    "language_info": {
      "name": "python"
    }
  },
  "cells": [
    {
      "cell_type": "markdown",
      "metadata": {
        "id": "view-in-github",
        "colab_type": "text"
      },
      "source": [
        "<a href=\"https://colab.research.google.com/github/yForecasting/grafton/blob/main/Grafton.ipynb\" target=\"_parent\"><img src=\"https://colab.research.google.com/assets/colab-badge.svg\" alt=\"Open In Colab\"/></a>"
      ]
    },
    {
      "cell_type": "markdown",
      "source": [
        "# Grafton\n",
        "\n",
        "---\n",
        "Instructions:\n",
        "\n",
        "* Hoover over the grey cell below. A play button will appear. Click on this to start the process.\n",
        "\n",
        "![firefox_A6hYCvB55R.png](data:image/png;base64,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)\n",
        "\n",
        "* Nothing will happen for now. You need to click on the browse button below this page. \n",
        "\n",
        "![firefox_d5nhXVoSv4.png](data:image/png;base64,iVBORw0KGgoAAAANSUhEUgAAATMAAABTCAYAAADz2+CwAAAAAXNSR0IArs4c6QAAAARnQU1BAACxjwv8YQUAAAAJcEhZcwAAEnQAABJ0Ad5mH3gAAAYnSURBVHhe7ZxLbttIEIZ1Fd/BuYWuYPgSuoAtZJ2tNrOMgSyzHegAWgTGnMDwMoGRhb0xYMPuYTVJsdkvtmhJUYrfB/wYkdXs11T9asmBZu/v7+bt7c28vr6al5cX8/z8bJ6enszDw4O5v783t7e39r+nLJkzQmjawswQQiqEmSGEVAgzQwipEGaGEFIhzAwhpEKYGUJIhTAzhJAKYWYIIRXCzBBCKoSZIYRUCDNDCKkQZoYQUiHMDCGkQpgZQkiFMDOEkAphZgghFcLMEEIqhJkhhFQIM0MIqRBmhhBSIcwMIaRCRWYGAHDqYGYAoALMDABUgJkBgAowMwBQAWYGACrAzABABZgZAKhAtZn9/Plgvn//13z58g9qJPsh+wKgDbVmJgUrxbvZ/Fe9/m1+/UKyD7Ifsi8YGmhDrZnJCUQKN1bUU5fsi+wPgCbUmll9+ogX89Ql+yL7A6AJ1WYWK2RUCzMDbWBmExVmBtrAzHr6Zi5mn8xyE4vlNPa5P6fTNrO1WZzNzequuTxZ/pZ5pvib5j881wmamRjPzMwcXdy4McxMuFvNzdnZWaf5yhwv5/ddZIcq2qmb2THXPzzWRM3MMZ6by8rQLs1NLFYsXWZWG9miSp+O9eKYRbvvIjlU0R2zmA/BR+d/zPUPj3UwM3t8fDTX19dW8nqXe/ug2Mw2n8151MzkdeoEF4u7ZtaPBSe/GxlTYu64mfZLMdw6dr780cQ+pqSZ3a3MfDBBJbG6U9vCdb1krEnG1WIbmycHGWqbGX/dPWO1+GpWc+famnT/eVH5PP1n3b1KzWuoTw/7/6Drp2yMimDtbXBgXiV9e7H4vobtcn0E81i364731d+HkNmhzOzq6mo7CXm9y719sNPJ7Pyz2cRirnqm98Msz11jcZ/zYoFZVqa0Ha+w/cW3SOxjSpqZFET2I+WdTeJtMdrCa5MvF2sSs83gXszHa2uLtE3kzBj2tVecto+mWLb3PYrn6Y3d63dfax85hn0dW/vQvErmX8c6c6yuF5Ij7vPCcB/peVT99/LOax+MFTJRM+tOQdGTUOKEtT19BabiPBfEarOqx/D7r7RT+8jzIzXazHpJKNRJV9dNJhYkYy45Y20LxrAx9x2/JTZW3Webe51ZxsZuroOxc7GRa7fGPWKM1NpL5zXYd2y+3joG+yiYR0vQPrNnDQczM/nIKOYkcj9SltzbB8UnM2sm7bUbk9eJ01fve7ZYzDXAWkkz26l95PmRKjWz9cIrdltsrgnUskmZiwXJmEtOP+YkfnaMMJ4eO/WuH2vbXNu+EwW2r7VLP703k9IxwvjwfhX2bWPuulu8dQz2kYjF9iMYM7NnDbPJ/wHAXkfMI2dYuZNZ8Jwrf+xKO7WPPD9SSTOLvgv7SR9L7IpcLEjGXHLG2g4VVoRtW6+/bKHExm6uc6eFfa09N7cxay+dV65dsO4Wbx25Pkrn0XJKJ7M/TbGZWTNpr51Y78QWa9caoB/zv0/7bTbLy7D/JrZbe/c69l1b13az/OR9N9dX0swq7GksdTpoTkndqUbyblEQ85Mxl5xerFcImTGqdu59WxB2HdJfewpo7gf9t9e5eXr99J7b59pHjJFce+m8cu3qWPw7M2euBX0Mz6NleB+6+dRM1MxiH+namGcIbbuLy76xWANLxPwxBv/AUNrevT6cmQn5f2dWJ9puMT9hYwnc4vWRSPT4GM5957luPbUp9ta3WDhzGZinLarYc0JuXpk+fUaP4dwfPa9YO8GLNUbi7+tOfSTn0ZDcB8wMORoyMzgVEoUOAZjZRIWZnS7r6hSyPXPI6aR3uoEUqs2MnwCKi58AOm26vyCL3C/BIYdaM+PHGdPixxlBI2rNjJ/NDiX7IPtRn1r52WzQhVozE6Rg5QQixYtqyX5gZKAR1WYGANMBMwMAFWBmAKACzAwAVICZAYAKMDMAUAFmBgAqwMwAQAWYGQCoADMDABVgZgCgAswMAFSAmQGACjAzAFABZgYAKsDMAEAFmBkAqAAzAwAVYGYAoALMDABUgJkBgAowMwBQAWYGACrAzABABZgZAKgAMwMAFWBmAKACzAwAVICZAYAKMDMAUAFmBgAKMOZ/5fW+d2wj1BUAAAAASUVORK5CYII=)\n",
        "\n",
        "3 files need to be uploaded (select them all in 1 go via Ctrl+click):\n",
        "\n",
        "  * `consent.csv` -> The list of names (or emails) of those giving their consent to have their data furtherly processed.\n",
        "\n",
        "  * `flatfile.csv` -> The file to be anonymized (different extension can be done)\n",
        "\n",
        "  * `pseudonyms.csv` -> The file containing the dictionary with the keys and their replacement.\n",
        "\n",
        "\n",
        "\n",
        "* After this grafton will be executed and download the export file automatically\n",
        "\n",
        "*Note*: if one or more file is missing, an error will show like this:\n",
        "\n",
        "![firefox_qLBohc25ub.png](data:image/png;base64,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)"
      ],
      "metadata": {
        "id": "fLwo6sgOY0e2"
      }
    },
    {
      "cell_type": "code",
      "execution_count": 6,
      "metadata": {
        "colab": {
          "base_uri": "https://localhost:8080/",
          "resources": {
            "http://localhost:8080/nbextensions/google.colab/files.js": {
              "data": "Ly8gQ29weXJpZ2h0IDIwMTcgR29vZ2xlIExMQwovLwovLyBMaWNlbnNlZCB1bmRlciB0aGUgQXBhY2hlIExpY2Vuc2UsIFZlcnNpb24gMi4wICh0aGUgIkxpY2Vuc2UiKTsKLy8geW91IG1heSBub3QgdXNlIHRoaXMgZmlsZSBleGNlcHQgaW4gY29tcGxpYW5jZSB3aXRoIHRoZSBMaWNlbnNlLgovLyBZb3UgbWF5IG9idGFpbiBhIGNvcHkgb2YgdGhlIExpY2Vuc2UgYXQKLy8KLy8gICAgICBodHRwOi8vd3d3LmFwYWNoZS5vcmcvbGljZW5zZXMvTElDRU5TRS0yLjAKLy8KLy8gVW5sZXNzIHJlcXVpcmVkIGJ5IGFwcGxpY2FibGUgbGF3IG9yIGFncmVlZCB0byBpbiB3cml0aW5nLCBzb2Z0d2FyZQovLyBkaXN0cmlidXRlZCB1bmRlciB0aGUgTGljZW5zZSBpcyBkaXN0cmlidXRlZCBvbiBhbiAiQVMgSVMiIEJBU0lTLAovLyBXSVRIT1VUIFdBUlJBTlRJRVMgT1IgQ09ORElUSU9OUyBPRiBBTlkgS0lORCwgZWl0aGVyIGV4cHJlc3Mgb3IgaW1wbGllZC4KLy8gU2VlIHRoZSBMaWNlbnNlIGZvciB0aGUgc3BlY2lmaWMgbGFuZ3VhZ2UgZ292ZXJuaW5nIHBlcm1pc3Npb25zIGFuZAovLyBsaW1pdGF0aW9ucyB1bmRlciB0aGUgTGljZW5zZS4KCi8qKgogKiBAZmlsZW92ZXJ2aWV3IEhlbHBlcnMgZm9yIGdvb2dsZS5jb2xhYiBQeXRob24gbW9kdWxlLgogKi8KKGZ1bmN0aW9uKHNjb3BlKSB7CmZ1bmN0aW9uIHNwYW4odGV4dCwgc3R5bGVBdHRyaWJ1dGVzID0ge30pIHsKICBjb25zdCBlbGVtZW50ID0gZG9jdW1lbnQuY3JlYXRlRWxlbWVudCgnc3BhbicpOwogIGVsZW1lbnQudGV4dENvbnRlbnQgPSB0ZXh0OwogIGZvciAoY29uc3Qga2V5IG9mIE9iamVjdC5rZXlzKHN0eWxlQXR0cmlidXRlcykpIHsKICAgIGVsZW1lbnQuc3R5bGVba2V5XSA9IHN0eWxlQXR0cmlidXRlc1trZXldOwogIH0KICByZXR1cm4gZWxlbWVudDsKfQoKLy8gTWF4IG51bWJlciBvZiBieXRlcyB3aGljaCB3aWxsIGJlIHVwbG9hZGVkIGF0IGEgdGltZS4KY29uc3QgTUFYX1BBWUxPQURfU0laRSA9IDEwMCAqIDEwMjQ7CgpmdW5jdGlvbiBfdXBsb2FkRmlsZXMoaW5wdXRJZCwgb3V0cHV0SWQpIHsKICBjb25zdCBzdGVwcyA9IHVwbG9hZEZpbGVzU3RlcChpbnB1dElkLCBvdXRwdXRJZCk7CiAgY29uc3Qgb3V0cHV0RWxlbWVudCA9IGRvY3VtZW50LmdldEVsZW1lbnRCeUlkKG91dHB1dElkKTsKICAvLyBDYWNoZSBzdGVwcyBvbiB0aGUgb3V0cHV0RWxlbWVudCB0byBtYWtlIGl0IGF2YWlsYWJsZSBmb3IgdGhlIG5leHQgY2FsbAogIC8vIHRvIHVwbG9hZEZpbGVzQ29udGludWUgZnJvbSBQeXRob24uCiAgb3V0cHV0RWxlbWVudC5zdGVwcyA9IHN0ZXBzOwoKICByZXR1cm4gX3VwbG9hZEZpbGVzQ29udGludWUob3V0cHV0SWQpOwp9CgovLyBUaGlzIGlzIHJvdWdobHkgYW4gYXN5bmMgZ2VuZXJhdG9yIChub3Qgc3VwcG9ydGVkIGluIHRoZSBicm93c2VyIHlldCksCi8vIHdoZXJlIHRoZXJlIGFyZSBtdWx0aXBsZSBhc3luY2hyb25vdXMgc3RlcHMgYW5kIHRoZSBQeXRob24gc2lkZSBpcyBnb2luZwovLyB0byBwb2xsIGZvciBjb21wbGV0aW9uIG9mIGVhY2ggc3RlcC4KLy8gVGhpcyB1c2VzIGEgUHJvbWlzZSB0byBibG9jayB0aGUgcHl0aG9uIHNpZGUgb24gY29tcGxldGlvbiBvZiBlYWNoIHN0ZXAsCi8vIHRoZW4gcGFzc2VzIHRoZSByZXN1bHQgb2YgdGhlIHByZXZpb3VzIHN0ZXAgYXMgdGhlIGlucHV0IHRvIHRoZSBuZXh0IHN0ZXAuCmZ1bmN0aW9uIF91cGxvYWRGaWxlc0NvbnRpbnVlKG91dHB1dElkKSB7CiAgY29uc3Qgb3V0cHV0RWxlbWVudCA9IGRvY3VtZW50LmdldEVsZW1lbnRCeUlkKG91dHB1dElkKTsKICBjb25zdCBzdGVwcyA9IG91dHB1dEVsZW1lbnQuc3RlcHM7CgogIGNvbnN0IG5leHQgPSBzdGVwcy5uZXh0KG91dHB1dEVsZW1lbnQubGFzdFByb21pc2VWYWx1ZSk7CiAgcmV0dXJuIFByb21pc2UucmVzb2x2ZShuZXh0LnZhbHVlLnByb21pc2UpLnRoZW4oKHZhbHVlKSA9PiB7CiAgICAvLyBDYWNoZSB0aGUgbGFzdCBwcm9taXNlIHZhbHVlIHRvIG1ha2UgaXQgYXZhaWxhYmxlIHRvIHRoZSBuZXh0CiAgICAvLyBzdGVwIG9mIHRoZSBnZW5lcmF0b3IuCiAgICBvdXRwdXRFbGVtZW50Lmxhc3RQcm9taXNlVmFsdWUgPSB2YWx1ZTsKICAgIHJldHVybiBuZXh0LnZhbHVlLnJlc3BvbnNlOwogIH0pOwp9CgovKioKICogR2VuZXJhdG9yIGZ1bmN0aW9uIHdoaWNoIGlzIGNhbGxlZCBiZXR3ZWVuIGVhY2ggYXN5bmMgc3RlcCBvZiB0aGUgdXBsb2FkCiAqIHByb2Nlc3MuCiAqIEBwYXJhbSB7c3RyaW5nfSBpbnB1dElkIEVsZW1lbnQgSUQgb2YgdGhlIGlucHV0IGZpbGUgcGlja2VyIGVsZW1lbnQuCiAqIEBwYXJhbSB7c3RyaW5nfSBvdXRwdXRJZCBFbGVtZW50IElEIG9mIHRoZSBvdXRwdXQgZGlzcGxheS4KICogQHJldHVybiB7IUl0ZXJhYmxlPCFPYmplY3Q+fSBJdGVyYWJsZSBvZiBuZXh0IHN0ZXBzLgogKi8KZnVuY3Rpb24qIHVwbG9hZEZpbGVzU3RlcChpbnB1dElkLCBvdXRwdXRJZCkgewogIGNvbnN0IGlucHV0RWxlbWVudCA9IGRvY3VtZW50LmdldEVsZW1lbnRCeUlkKGlucHV0SWQpOwogIGlucHV0RWxlbWVudC5kaXNhYmxlZCA9IGZhbHNlOwoKICBjb25zdCBvdXRwdXRFbGVtZW50ID0gZG9jdW1lbnQuZ2V0RWxlbWVudEJ5SWQob3V0cHV0SWQpOwogIG91dHB1dEVsZW1lbnQuaW5uZXJIVE1MID0gJyc7CgogIGNvbnN0IHBpY2tlZFByb21pc2UgPSBuZXcgUHJvbWlzZSgocmVzb2x2ZSkgPT4gewogICAgaW5wdXRFbGVtZW50LmFkZEV2ZW50TGlzdGVuZXIoJ2NoYW5nZScsIChlKSA9PiB7CiAgICAgIHJlc29sdmUoZS50YXJnZXQuZmlsZXMpOwogICAgfSk7CiAgfSk7CgogIGNvbnN0IGNhbmNlbCA9IGRvY3VtZW50LmNyZWF0ZUVsZW1lbnQoJ2J1dHRvbicpOwogIGlucHV0RWxlbWVudC5wYXJlbnRFbGVtZW50LmFwcGVuZENoaWxkKGNhbmNlbCk7CiAgY2FuY2VsLnRleHRDb250ZW50ID0gJ0NhbmNlbCB1cGxvYWQnOwogIGNvbnN0IGNhbmNlbFByb21pc2UgPSBuZXcgUHJvbWlzZSgocmVzb2x2ZSkgPT4gewogICAgY2FuY2VsLm9uY2xpY2sgPSAoKSA9PiB7CiAgICAgIHJlc29sdmUobnVsbCk7CiAgICB9OwogIH0pOwoKICAvLyBXYWl0IGZvciB0aGUgdXNlciB0byBwaWNrIHRoZSBmaWxlcy4KICBjb25zdCBmaWxlcyA9IHlpZWxkIHsKICAgIHByb21pc2U6IFByb21pc2UucmFjZShbcGlja2VkUHJvbWlzZSwgY2FuY2VsUHJvbWlzZV0pLAogICAgcmVzcG9uc2U6IHsKICAgICAgYWN0aW9uOiAnc3RhcnRpbmcnLAogICAgfQogIH07CgogIGNhbmNlbC5yZW1vdmUoKTsKCiAgLy8gRGlzYWJsZSB0aGUgaW5wdXQgZWxlbWVudCBzaW5jZSBmdXJ0aGVyIHBpY2tzIGFyZSBub3QgYWxsb3dlZC4KICBpbnB1dEVsZW1lbnQuZGlzYWJsZWQgPSB0cnVlOwoKICBpZiAoIWZpbGVzKSB7CiAgICByZXR1cm4gewogICAgICByZXNwb25zZTogewogICAgICAgIGFjdGlvbjogJ2NvbXBsZXRlJywKICAgICAgfQogICAgfTsKICB9CgogIGZvciAoY29uc3QgZmlsZSBvZiBmaWxlcykgewogICAgY29uc3QgbGkgPSBkb2N1bWVudC5jcmVhdGVFbGVtZW50KCdsaScpOwogICAgbGkuYXBwZW5kKHNwYW4oZmlsZS5uYW1lLCB7Zm9udFdlaWdodDogJ2JvbGQnfSkpOwogICAgbGkuYXBwZW5kKHNwYW4oCiAgICAgICAgYCgke2ZpbGUudHlwZSB8fCAnbi9hJ30pIC0gJHtmaWxlLnNpemV9IGJ5dGVzLCBgICsKICAgICAgICBgbGFzdCBtb2RpZmllZDogJHsKICAgICAgICAgICAgZmlsZS5sYXN0TW9kaWZpZWREYXRlID8gZmlsZS5sYXN0TW9kaWZpZWREYXRlLnRvTG9jYWxlRGF0ZVN0cmluZygpIDoKICAgICAgICAgICAgICAgICAgICAgICAgICAgICAgICAgICAgJ24vYSd9IC0gYCkpOwogICAgY29uc3QgcGVyY2VudCA9IHNwYW4oJzAlIGRvbmUnKTsKICAgIGxpLmFwcGVuZENoaWxkKHBlcmNlbnQpOwoKICAgIG91dHB1dEVsZW1lbnQuYXBwZW5kQ2hpbGQobGkpOwoKICAgIGNvbnN0IGZpbGVEYXRhUHJvbWlzZSA9IG5ldyBQcm9taXNlKChyZXNvbHZlKSA9PiB7CiAgICAgIGNvbnN0IHJlYWRlciA9IG5ldyBGaWxlUmVhZGVyKCk7CiAgICAgIHJlYWRlci5vbmxvYWQgPSAoZSkgPT4gewogICAgICAgIHJlc29sdmUoZS50YXJnZXQucmVzdWx0KTsKICAgICAgfTsKICAgICAgcmVhZGVyLnJlYWRBc0FycmF5QnVmZmVyKGZpbGUpOwogICAgfSk7CiAgICAvLyBXYWl0IGZvciB0aGUgZGF0YSB0byBiZSByZWFkeS4KICAgIGxldCBmaWxlRGF0YSA9IHlpZWxkIHsKICAgICAgcHJvbWlzZTogZmlsZURhdGFQcm9taXNlLAogICAgICByZXNwb25zZTogewogICAgICAgIGFjdGlvbjogJ2NvbnRpbnVlJywKICAgICAgfQogICAgfTsKCiAgICAvLyBVc2UgYSBjaHVua2VkIHNlbmRpbmcgdG8gYXZvaWQgbWVzc2FnZSBzaXplIGxpbWl0cy4gU2VlIGIvNjIxMTU2NjAuCiAgICBsZXQgcG9zaXRpb24gPSAwOwogICAgZG8gewogICAgICBjb25zdCBsZW5ndGggPSBNYXRoLm1pbihmaWxlRGF0YS5ieXRlTGVuZ3RoIC0gcG9zaXRpb24sIE1BWF9QQVlMT0FEX1NJWkUpOwogICAgICBjb25zdCBjaHVuayA9IG5ldyBVaW50OEFycmF5KGZpbGVEYXRhLCBwb3NpdGlvbiwgbGVuZ3RoKTsKICAgICAgcG9zaXRpb24gKz0gbGVuZ3RoOwoKICAgICAgY29uc3QgYmFzZTY0ID0gYnRvYShTdHJpbmcuZnJvbUNoYXJDb2RlLmFwcGx5KG51bGwsIGNodW5rKSk7CiAgICAgIHlpZWxkIHsKICAgICAgICByZXNwb25zZTogewogICAgICAgICAgYWN0aW9uOiAnYXBwZW5kJywKICAgICAgICAgIGZpbGU6IGZpbGUubmFtZSwKICAgICAgICAgIGRhdGE6IGJhc2U2NCwKICAgICAgICB9LAogICAgICB9OwoKICAgICAgbGV0IHBlcmNlbnREb25lID0gZmlsZURhdGEuYnl0ZUxlbmd0aCA9PT0gMCA/CiAgICAgICAgICAxMDAgOgogICAgICAgICAgTWF0aC5yb3VuZCgocG9zaXRpb24gLyBmaWxlRGF0YS5ieXRlTGVuZ3RoKSAqIDEwMCk7CiAgICAgIHBlcmNlbnQudGV4dENvbnRlbnQgPSBgJHtwZXJjZW50RG9uZX0lIGRvbmVgOwoKICAgIH0gd2hpbGUgKHBvc2l0aW9uIDwgZmlsZURhdGEuYnl0ZUxlbmd0aCk7CiAgfQoKICAvLyBBbGwgZG9uZS4KICB5aWVsZCB7CiAgICByZXNwb25zZTogewogICAgICBhY3Rpb246ICdjb21wbGV0ZScsCiAgICB9CiAgfTsKfQoKc2NvcGUuZ29vZ2xlID0gc2NvcGUuZ29vZ2xlIHx8IHt9OwpzY29wZS5nb29nbGUuY29sYWIgPSBzY29wZS5nb29nbGUuY29sYWIgfHwge307CnNjb3BlLmdvb2dsZS5jb2xhYi5fZmlsZXMgPSB7CiAgX3VwbG9hZEZpbGVzLAogIF91cGxvYWRGaWxlc0NvbnRpbnVlLAp9Owp9KShzZWxmKTsK",
              "ok": true,
              "headers": [
                [
                  "content-type",
                  "application/javascript"
                ]
              ],
              "status": 200,
              "status_text": "OK"
            }
          },
          "height": 403
        },
        "id": "Gy_s8FRVYzwe",
        "outputId": "809b23d7-90cb-4f85-ec87-f439b81bc0c5"
      },
      "outputs": [
        {
          "output_type": "display_data",
          "data": {
            "text/html": [
              "\n",
              "     <input type=\"file\" id=\"files-1c1b21a5-9ce0-4a9d-b2de-d0de3c2907fd\" name=\"files[]\" multiple disabled\n",
              "        style=\"border:none\" />\n",
              "     <output id=\"result-1c1b21a5-9ce0-4a9d-b2de-d0de3c2907fd\">\n",
              "      Upload widget is only available when the cell has been executed in the\n",
              "      current browser session. Please rerun this cell to enable.\n",
              "      </output>\n",
              "      <script src=\"/nbextensions/google.colab/files.js\"></script> "
            ],
            "text/plain": [
              "<IPython.core.display.HTML object>"
            ]
          },
          "metadata": {}
        },
        {
          "output_type": "stream",
          "name": "stdout",
          "text": [
            "Saving consent.csv to consent (2).csv\n",
            "Saving flatfile.csv to flatfile (1).csv\n",
            "Saving pseudonyms.csv to pseudonyms (2).csv\n",
            "User uploaded file \"consent.csv\" with length 104 bytes\n",
            "User uploaded file \"flatfile.csv\" with length 14413 bytes\n",
            "User uploaded file \"pseudonyms.csv\" with length 268 bytes\n",
            "Requirement already satisfied: grafton in /usr/local/lib/python3.7/dist-packages (0.1.8)\n",
            "Requirement already satisfied: pandas in /usr/local/lib/python3.7/dist-packages (from grafton) (1.1.5)\n",
            "Requirement already satisfied: numpy>=1.15.4 in /usr/local/lib/python3.7/dist-packages (from pandas->grafton) (1.19.5)\n",
            "Requirement already satisfied: python-dateutil>=2.7.3 in /usr/local/lib/python3.7/dist-packages (from pandas->grafton) (2.8.2)\n",
            "Requirement already satisfied: pytz>=2017.2 in /usr/local/lib/python3.7/dist-packages (from pandas->grafton) (2018.9)\n",
            "Requirement already satisfied: six>=1.5 in /usr/local/lib/python3.7/dist-packages (from python-dateutil>=2.7.3->pandas->grafton) (1.15.0)\n",
            "Original data read.\n",
            "Export started.\n",
            "Wait for the end of script signature!\n",
            "Grafton complete.\n",
            "---- end of script ----\n"
          ]
        },
        {
          "output_type": "display_data",
          "data": {
            "application/javascript": [
              "\n",
              "    async function download(id, filename, size) {\n",
              "      if (!google.colab.kernel.accessAllowed) {\n",
              "        return;\n",
              "      }\n",
              "      const div = document.createElement('div');\n",
              "      const label = document.createElement('label');\n",
              "      label.textContent = `Downloading \"${filename}\": `;\n",
              "      div.appendChild(label);\n",
              "      const progress = document.createElement('progress');\n",
              "      progress.max = size;\n",
              "      div.appendChild(progress);\n",
              "      document.body.appendChild(div);\n",
              "\n",
              "      const buffers = [];\n",
              "      let downloaded = 0;\n",
              "\n",
              "      const channel = await google.colab.kernel.comms.open(id);\n",
              "      // Send a message to notify the kernel that we're ready.\n",
              "      channel.send({})\n",
              "\n",
              "      for await (const message of channel.messages) {\n",
              "        // Send a message to notify the kernel that we're ready.\n",
              "        channel.send({})\n",
              "        if (message.buffers) {\n",
              "          for (const buffer of message.buffers) {\n",
              "            buffers.push(buffer);\n",
              "            downloaded += buffer.byteLength;\n",
              "            progress.value = downloaded;\n",
              "          }\n",
              "        }\n",
              "      }\n",
              "      const blob = new Blob(buffers, {type: 'application/binary'});\n",
              "      const a = document.createElement('a');\n",
              "      a.href = window.URL.createObjectURL(blob);\n",
              "      a.download = filename;\n",
              "      div.appendChild(a);\n",
              "      a.click();\n",
              "      div.remove();\n",
              "    }\n",
              "  "
            ],
            "text/plain": [
              "<IPython.core.display.Javascript object>"
            ]
          },
          "metadata": {}
        },
        {
          "output_type": "display_data",
          "data": {
            "application/javascript": [
              "download(\"download_bd915a6f-bc91-45a1-a686-c66f47676622\", \"export.csv\", 14243)"
            ],
            "text/plain": [
              "<IPython.core.display.Javascript object>"
            ]
          },
          "metadata": {}
        }
      ],
      "source": [
        "# 1. Uploading files\n",
        "from google.colab import files\n",
        "uploaded = files.upload()\n",
        "for fn in uploaded.keys():\n",
        "  print('User uploaded file \"{name}\" with length {length} bytes'.format(\n",
        "      name=fn, length=len(uploaded[fn])))\n",
        "# check if files are uploaded correctly\n",
        "export_path = '/content/export.csv'\n",
        "pseudonyms_path = '/content/pseudonyms.csv'\n",
        "consent_path = '/content/consent.csv'\n",
        "flatfile_path = '/content/flatfile.csv'\n",
        "import os\n",
        "error=False \n",
        "if not os.path.isfile(consent_path):\n",
        "  print(\"The consent file has not been properly uploaded\")\n",
        "  error=True\n",
        "if not os.path.isfile(pseudonyms_path):\n",
        "  print(\"The pseudonyms file has not been properly uploaded\")\n",
        "  error=True\n",
        "if not os.path.isfile(flatfile_path):\n",
        "  print(\"The flatfile file has not been properly uploaded\")\n",
        "  error=True\n",
        "if error: \n",
        "  print(\"The grafton process has been terminated due to missing files.\")\n",
        "else:\n",
        "\n",
        "  # 2. GRAFTON anonymising step\n",
        "  !pip install grafton\n",
        "  from grafton import anonymise\n",
        "  anonymise(pseudonyms_file = pseudonyms_path, consent_file = consent_path, flat_file = flatfile_path, export_file = export_path)\n",
        "\n",
        "  # 3. Download export file to PC\n",
        "  from google.colab import files\n",
        "  files.download('export.csv')\n"
      ]
    }
  ]
}